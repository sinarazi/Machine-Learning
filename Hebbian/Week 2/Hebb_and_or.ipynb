{
 "cells": [
  {
   "cell_type": "markdown",
   "metadata": {},
   "source": [
    "# Hebbian Learning"
   ]
  },
  {
   "cell_type": "markdown",
   "metadata": {},
   "source": [
    "### Implementation of AND:"
   ]
  },
  {
   "cell_type": "code",
   "execution_count": 2,
   "metadata": {},
   "outputs": [],
   "source": [
    "import matplotlib.pyplot as plt"
   ]
  },
  {
   "cell_type": "code",
   "execution_count": 3,
   "metadata": {},
   "outputs": [],
   "source": [
    "#Input\n",
    "and_Entry = [[1, 1, 1], [1, -1, -1], [-1, 1, -1], [-1, -1 ,-1]]"
   ]
  },
  {
   "cell_type": "code",
   "execution_count": 4,
   "metadata": {},
   "outputs": [],
   "source": [
    "# Functin inorder to Hebbain algorithm's AND\n",
    "def AND_hebb():\n",
    "    \n",
    "    w_1, w_2, b = 0, 0, 0 # Initialize first values\n",
    "    arr = []\n",
    "    \n",
    "    for i in and_Entry:\n",
    "        # Setting weight w_i(new) = w_i(old) + (x_i * y)\n",
    "        w_1 += i[0] * i[2]  \n",
    "        w_2 += i[1] * i[2]\n",
    "        b += i[2] # setting Bias\n",
    "        temp = 0\n",
    "        for j in and_Entry:\n",
    "            if (j[0] * w_1 + j[1] * w_2 + b <= 0 and j[2] == -1) or (j[0] * w_1 + j[1] * w_2 + b > 0 and j[2] == 1):\n",
    "                    temp += 1\n",
    "        if temp == 4:     \n",
    "            if len(arr) == 0:\n",
    "                arr = [w_1, w_2, b]\n",
    "            else:\n",
    "                if not w_1 % arr[0] == w_2 % arr[1] == b % arr[2]:\n",
    "                    arr = [w_1, w_2, b]\n",
    "    return arr   "
   ]
  },
  {
   "cell_type": "code",
   "execution_count": 5,
   "metadata": {
    "scrolled": true
   },
   "outputs": [],
   "source": [
    "data = AND_hebb() # callback hebbian function"
   ]
  },
  {
   "cell_type": "code",
   "execution_count": 19,
   "metadata": {},
   "outputs": [],
   "source": [
    "# Initialize coordinate of values\n",
    "z = [[-1, -1], [-1, 1], [1, -1]]\n",
    "x, y = zip(*z)\n",
    "z1 = [[1, 1]]\n",
    "x1, y1 = zip(*z1)"
   ]
  },
  {
   "cell_type": "code",
   "execution_count": 28,
   "metadata": {},
   "outputs": [
    {
     "data": {
      "image/png": "[encoded data removed]",
      "text/plain": [
       "<Figure size 360x360 with 1 Axes>"
      ]
     },
     "metadata": {
      "needs_background": "light"
     },
     "output_type": "display_data"
    },
    {
     "name": "stdout",
     "output_type": "stream",
     "text": [
      "Final result is: (1)X1 + (1)X2 + (1) = 0\n"
     ]
    }
   ],
   "source": [
    "# Final plot\n",
    "plt.figure(figsize=(5,5))\n",
    "\n",
    "plt.scatter(x1, y1, color='green', marker = '.', linewidth=3)\n",
    "plt.scatter(x, y, color='red', marker = '+', linewidth=3)\n",
    "plt.plot([0,1],[1,0], color='yellow', linewidth=3)\n",
    "\n",
    "plt.xlim(-1.1, 1.1)\n",
    "plt.ylim(-1.1, 1.1)\n",
    "#plt.plot(data, color='yellow', linewidth=3)\n",
    "plt.show()    \n",
    "print(f\"Final result is: ({data[0]})X1 + ({data[1]})X2 + ({data[2]}) = 0\") "
   ]
  },
  {
   "cell_type": "markdown",
   "metadata": {},
   "source": [
    "### Implementation of OR:"
   ]
  },
  {
   "cell_type": "code",
   "execution_count": 8,
   "metadata": {},
   "outputs": [],
   "source": [
    "or_Entry = [[1, 1, 1], [1, -1, 1], [-1, 1, 1], [-1, -1 ,-1]]"
   ]
  },
  {
   "cell_type": "code",
   "execution_count": 9,
   "metadata": {},
   "outputs": [],
   "source": [
    "# Functin inorder to Hebbain algorithm's OR\n",
    "def OR_hebb():\n",
    "    w_1, w_2, b = 0, 0, 0\n",
    "    arr = []\n",
    "    for i in or_Entry:\n",
    "        w_1 += i[0] * i[2]\n",
    "        w_2 += i[1] * i[2]\n",
    "        b += i[2] #Bias\n",
    "        temp = 0\n",
    "        for j in or_Entry:\n",
    "            if (j[0] * w_1 + j[1] * w_2 + b <= 0 and j[2] == -1) or (j[0] * w_1 + j[1] * w_2 + b > 0 and j[2] == 1):\n",
    "                    temp += 1\n",
    "        if temp == 4:     \n",
    "            if len(arr) == 0:\n",
    "                arr = [w_1, w_2, b]\n",
    "            else:\n",
    "                if not w_1 % arr[0] == w_2 % arr[1] == b % arr[2]:\n",
    "                    arr = [w_1, w_2, b]\n",
    "    return arr    "
   ]
  },
  {
   "cell_type": "code",
   "execution_count": 10,
   "metadata": {},
   "outputs": [],
   "source": [
    "data = OR_hebb() # callback hebbian function"
   ]
  },
  {
   "cell_type": "code",
   "execution_count": 15,
   "metadata": {},
   "outputs": [],
   "source": [
    "# Initialize coordinate of values\n",
    "z = [[1, 1], [-1, 1], [1, -1]]\n",
    "x, y = zip(*z)\n",
    "z1 = [[-1, -1]]\n",
    "x1, y1 = zip(*z1)"
   ]
  },
  {
   "cell_type": "code",
   "execution_count": 17,
   "metadata": {},
   "outputs": [
    {
     "data": {
      "image/png": "[encoded data removed]",
      "text/plain": [
       "<Figure size 360x360 with 1 Axes>"
      ]
     },
     "metadata": {
      "needs_background": "light"
     },
     "output_type": "display_data"
    },
    {
     "name": "stdout",
     "output_type": "stream",
     "text": [
      "Final result is: (1)X1 + (1)X2 + (1) = 0\n"
     ]
    }
   ],
   "source": [
    "# Final plot\n",
    "plt.figure(figsize=(5,5))\n",
    "\n",
    "plt.scatter(x1, y1, color='green', marker = '.', linewidth=3)\n",
    "plt.scatter(x, y, color='red', marker = '+', linewidth=3)\n",
    "plt.plot([1,-2],[-2,1], color='yellow', linewidth=3)\n",
    "\n",
    "plt.show()    \n",
    "print(f\"Final result is: ({data[0]})X1 + ({data[1]})X2 + ({data[2]}) = 0\") "
   ]
  },
  {
   "cell_type": "code",
   "execution_count": null,
   "metadata": {},
   "outputs": [],
   "source": []
  }
 ],
 "metadata": {
  "kernelspec": {
   "display_name": "Python 3",
   "language": "python",
   "name": "python3"
  },
  "language_info": {
   "codemirror_mode": {
    "name": "ipython",
    "version": 3
   },
   "file_extension": ".py",
   "mimetype": "text/x-python",
   "name": "python",
   "nbconvert_exporter": "python",
   "pygments_lexer": "ipython3",
   "version": "3.7.3"
  }
 },
 "nbformat": 4,
 "nbformat_minor": 4
}
